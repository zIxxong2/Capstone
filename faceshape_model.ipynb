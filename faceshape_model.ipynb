{
  "nbformat": 4,
  "nbformat_minor": 0,
  "metadata": {
    "colab": {
      "name": "faceshape_model.ipynb",
      "provenance": [],
      "collapsed_sections": [],
      "authorship_tag": "ABX9TyOfRSuZKWdznIMBd+fbgFqz",
      "include_colab_link": true
    },
    "kernelspec": {
      "display_name": "Python 3",
      "name": "python3"
    },
    "language_info": {
      "name": "python"
    },
    "accelerator": "GPU"
  },
  "cells": [
    {
      "cell_type": "markdown",
      "metadata": {
        "id": "view-in-github",
        "colab_type": "text"
      },
      "source": [
        "<a href=\"https://colab.research.google.com/github/zIxxong2/Capstone/blob/master/faceshape_model.ipynb\" target=\"_parent\"><img src=\"https://colab.research.google.com/assets/colab-badge.svg\" alt=\"Open In Colab\"/></a>"
      ]
    },
    {
      "cell_type": "code",
      "metadata": {
        "colab": {
          "base_uri": "https://localhost:8080/"
        },
        "id": "5LtnFKZ9NHg-",
        "outputId": "507affd3-db8a-4778-b4a5-ccfa5946fcd0"
      },
      "source": [
        "from google.colab import drive    # 드라이브 마운팅\n",
        "drive.mount('/content/drive')"
      ],
      "execution_count": 1,
      "outputs": [
        {
          "output_type": "stream",
          "text": [
            "Mounted at /content/drive\n"
          ],
          "name": "stdout"
        }
      ]
    },
    {
      "cell_type": "code",
      "metadata": {
        "id": "2r7Deaq4Qlsw"
      },
      "source": [
        "import os\n",
        "\n",
        "# 전이 학습!!!\n",
        "import torch\n",
        "import torch.nn as nn\n",
        "import torch.nn.functional as F\n",
        "import torch.optim as optim\n",
        "\n",
        "import torchvision\n",
        "from torchvision import datasets, models, transforms\n",
        "\n",
        "import numpy as np\n",
        "import time\n",
        "from PIL import Image\n",
        "from torch.utils.data import Dataset\n",
        "import cv2\n",
        "\n",
        "import matplotlib\n",
        "import matplotlib.pyplot as plt\n",
        "import matplotlib.font_manager as fm\n",
        "\n",
        "device = torch.device(\"cuda:0\" if torch.cuda.is_available() else \"cpu\") # device 객체\n"
      ],
      "execution_count": 2,
      "outputs": []
    },
    {
      "cell_type": "code",
      "metadata": {
        "colab": {
          "base_uri": "https://localhost:8080/"
        },
        "id": "EBLf0MLq3mCf",
        "outputId": "795c1ac7-7d03-4dd3-bce6-856d4c09269c"
      },
      "source": [
        "print(torch.__version__)"
      ],
      "execution_count": 4,
      "outputs": [
        {
          "output_type": "stream",
          "text": [
            "1.8.1+cu101\n"
          ],
          "name": "stdout"
        }
      ]
    },
    {
      "cell_type": "code",
      "metadata": {
        "colab": {
          "base_uri": "https://localhost:8080/"
        },
        "id": "4f0J4ydtQukW",
        "outputId": "09d8e34c-4951-48e2-b273-65d524b8a955"
      },
      "source": [
        "\n",
        "# 데이터셋을 불러올 때 사용할 변형(transformation) 객체 정의\n",
        "\n",
        "transforms_train = transforms.Compose([\n",
        "    transforms.Resize((224, 224)),\n",
        "    transforms.RandomHorizontalFlip(), # 데이터 증진(augmentation)\n",
        "    transforms.RandomChoice([\n",
        "        transforms.ColorJitter(0.5, 0.5, 0.2, 0.2),\n",
        "        transforms.RandomGrayscale(p=0.2), \n",
        "        transforms.RandomAffine(\n",
        "            degrees=10, translate=(0.2, 0.2),\n",
        "            scale=(0.8, 1.2), shear=12, resample=Image.BILINEAR)\n",
        "\n",
        "    ]),\n",
        "    transforms.ToTensor(), # PIL 형태의 이미지나 ndarray 를 PyTorch 가 이해할 수 있는 tensor 자료형으로 바꾸어 주는 역할\n",
        "    transforms.Normalize([0.485, 0.456, 0.406], [0.229, 0.224, 0.225]) # 정규화(normalization)\n",
        "])\n",
        "\n",
        "transforms_test = transforms.Compose([\n",
        "    transforms.Resize((224, 224)),\n",
        "    transforms.ToTensor(),\n",
        "    transforms.Normalize([0.485, 0.456, 0.406], [0.229, 0.224, 0.225])\n",
        "])\n",
        "\n",
        "data_dir = '/content/drive/MyDrive/Colab Notebooks/custom_dataset'\n",
        "\n",
        "train_datasets = datasets.ImageFolder(os.path.join(data_dir, 'train'), transforms_train)\n",
        "test_datasets = datasets.ImageFolder(os.path.join(data_dir, 'test'), transforms_test)\n",
        "\n",
        "train_dataloader = torch.utils.data.DataLoader(train_datasets, batch_size=4, shuffle=True, num_workers=4)\n",
        "test_dataloader = torch.utils.data.DataLoader(test_datasets, batch_size=4, shuffle=True, num_workers=4)\n",
        "\n",
        "print('학습 데이터셋 크기:', len(train_datasets))\n",
        "print('테스트 데이터셋 크기:', len(test_datasets))\n",
        "\n",
        "class_names = train_datasets.classes\n",
        "print('클래스:', class_names)\n",
        "\n"
      ],
      "execution_count": null,
      "outputs": [
        {
          "output_type": "stream",
          "text": [
            "학습 데이터셋 크기: 360\n",
            "테스트 데이터셋 크기: 60\n",
            "클래스: ['각진형', '계란형', '둥근형', '마름모형', '하트형']\n"
          ],
          "name": "stdout"
        },
        {
          "output_type": "stream",
          "text": [
            "/usr/local/lib/python3.7/dist-packages/torchvision/transforms/transforms.py:1315: UserWarning: Argument resample is deprecated and will be removed since v0.10.0. Please, use interpolation instead\n",
            "  \"Argument resample is deprecated and will be removed since v0.10.0. Please, use interpolation instead\"\n",
            "/usr/local/lib/python3.7/dist-packages/torch/utils/data/dataloader.py:477: UserWarning: This DataLoader will create 4 worker processes in total. Our suggested max number of worker in current system is 2, which is smaller than what this DataLoader is going to create. Please be aware that excessive worker creation might get DataLoader running slow or even freeze, lower the worker number to avoid potential slowness/freeze if necessary.\n",
            "  cpuset_checked))\n"
          ],
          "name": "stderr"
        }
      ]
    },
    {
      "cell_type": "code",
      "metadata": {
        "colab": {
          "base_uri": "https://localhost:8080/",
          "height": 1000
        },
        "id": "vgC6RZk9RGUR",
        "outputId": "ac30f3df-0b48-4413-fb6d-fee334601971"
      },
      "source": [
        "def imshow(input, title):\n",
        "    # torch.Tensor를 numpy 객체로 변환\n",
        "    input = input.numpy().transpose((1, 2, 0))\n",
        "    # 이미지 정규화 해제하기\n",
        "    mean = np.array([0.485, 0.456, 0.406])\n",
        "    std = np.array([0.229, 0.224, 0.225])\n",
        "    input = std * input + mean\n",
        "    input = np.clip(input, 0, 1)\n",
        "    # 이미지 출력\n",
        "    plt.imshow(input)\n",
        "    plt.title(title)\n",
        "    plt.show()\n",
        "\n",
        "\n",
        "# 학습 데이터를 배치 단위로 불러오기\n",
        "\n",
        "iterator = iter(train_dataloader)\n",
        "\n",
        "# 현재 배치를 이용해 격자 형태의 이미지를 만들어 시각화\n",
        "inputs, classes = next(iterator)\n",
        "out = torchvision.utils.make_grid(inputs)\n",
        "imshow(out, title=[class_names[x] for x in classes])\n",
        "\n",
        "print(classes)"
      ],
      "execution_count": null,
      "outputs": [
        {
          "output_type": "stream",
          "text": [
            "/usr/local/lib/python3.7/dist-packages/torch/utils/data/dataloader.py:477: UserWarning: This DataLoader will create 4 worker processes in total. Our suggested max number of worker in current system is 2, which is smaller than what this DataLoader is going to create. Please be aware that excessive worker creation might get DataLoader running slow or even freeze, lower the worker number to avoid potential slowness/freeze if necessary.\n",
            "  cpuset_checked))\n",
            "/usr/local/lib/python3.7/dist-packages/matplotlib/backends/backend_agg.py:214: RuntimeWarning: Glyph 4352 missing from current font.\n",
            "  font.set_text(s, 0.0, flags=flags)\n",
            "/usr/local/lib/python3.7/dist-packages/matplotlib/backends/backend_agg.py:214: RuntimeWarning: Glyph 4456 missing from current font.\n",
            "  font.set_text(s, 0.0, flags=flags)\n",
            "/usr/local/lib/python3.7/dist-packages/matplotlib/backends/backend_agg.py:214: RuntimeWarning: Glyph 4357 missing from current font.\n",
            "  font.set_text(s, 0.0, flags=flags)\n",
            "/usr/local/lib/python3.7/dist-packages/matplotlib/backends/backend_agg.py:214: RuntimeWarning: Glyph 4449 missing from current font.\n",
            "  font.set_text(s, 0.0, flags=flags)\n",
            "/usr/local/lib/python3.7/dist-packages/matplotlib/backends/backend_agg.py:214: RuntimeWarning: Glyph 4523 missing from current font.\n",
            "  font.set_text(s, 0.0, flags=flags)\n",
            "/usr/local/lib/python3.7/dist-packages/matplotlib/backends/backend_agg.py:214: RuntimeWarning: Glyph 4370 missing from current font.\n",
            "  font.set_text(s, 0.0, flags=flags)\n",
            "/usr/local/lib/python3.7/dist-packages/matplotlib/backends/backend_agg.py:214: RuntimeWarning: Glyph 4455 missing from current font.\n",
            "  font.set_text(s, 0.0, flags=flags)\n",
            "/usr/local/lib/python3.7/dist-packages/matplotlib/backends/backend_agg.py:214: RuntimeWarning: Glyph 4540 missing from current font.\n",
            "  font.set_text(s, 0.0, flags=flags)\n",
            "/usr/local/lib/python3.7/dist-packages/matplotlib/backends/backend_agg.py:214: RuntimeWarning: Glyph 4520 missing from current font.\n",
            "  font.set_text(s, 0.0, flags=flags)\n",
            "/usr/local/lib/python3.7/dist-packages/matplotlib/backends/backend_agg.py:214: RuntimeWarning: Glyph 4364 missing from current font.\n",
            "  font.set_text(s, 0.0, flags=flags)\n",
            "/usr/local/lib/python3.7/dist-packages/matplotlib/backends/backend_agg.py:214: RuntimeWarning: Glyph 4469 missing from current font.\n",
            "  font.set_text(s, 0.0, flags=flags)\n",
            "/usr/local/lib/python3.7/dist-packages/matplotlib/backends/backend_agg.py:214: RuntimeWarning: Glyph 4355 missing from current font.\n",
            "  font.set_text(s, 0.0, flags=flags)\n",
            "/usr/local/lib/python3.7/dist-packages/matplotlib/backends/backend_agg.py:214: RuntimeWarning: Glyph 4462 missing from current font.\n",
            "  font.set_text(s, 0.0, flags=flags)\n",
            "/usr/local/lib/python3.7/dist-packages/matplotlib/backends/backend_agg.py:214: RuntimeWarning: Glyph 4467 missing from current font.\n",
            "  font.set_text(s, 0.0, flags=flags)\n",
            "/usr/local/lib/python3.7/dist-packages/matplotlib/backends/backend_agg.py:183: RuntimeWarning: Glyph 4352 missing from current font.\n",
            "  font.set_text(s, 0, flags=flags)\n",
            "/usr/local/lib/python3.7/dist-packages/matplotlib/backends/backend_agg.py:183: RuntimeWarning: Glyph 4456 missing from current font.\n",
            "  font.set_text(s, 0, flags=flags)\n",
            "/usr/local/lib/python3.7/dist-packages/matplotlib/backends/backend_agg.py:183: RuntimeWarning: Glyph 4357 missing from current font.\n",
            "  font.set_text(s, 0, flags=flags)\n",
            "/usr/local/lib/python3.7/dist-packages/matplotlib/backends/backend_agg.py:183: RuntimeWarning: Glyph 4449 missing from current font.\n",
            "  font.set_text(s, 0, flags=flags)\n",
            "/usr/local/lib/python3.7/dist-packages/matplotlib/backends/backend_agg.py:183: RuntimeWarning: Glyph 4523 missing from current font.\n",
            "  font.set_text(s, 0, flags=flags)\n",
            "/usr/local/lib/python3.7/dist-packages/matplotlib/backends/backend_agg.py:183: RuntimeWarning: Glyph 4370 missing from current font.\n",
            "  font.set_text(s, 0, flags=flags)\n",
            "/usr/local/lib/python3.7/dist-packages/matplotlib/backends/backend_agg.py:183: RuntimeWarning: Glyph 4455 missing from current font.\n",
            "  font.set_text(s, 0, flags=flags)\n",
            "/usr/local/lib/python3.7/dist-packages/matplotlib/backends/backend_agg.py:183: RuntimeWarning: Glyph 4540 missing from current font.\n",
            "  font.set_text(s, 0, flags=flags)\n",
            "/usr/local/lib/python3.7/dist-packages/matplotlib/backends/backend_agg.py:183: RuntimeWarning: Glyph 4520 missing from current font.\n",
            "  font.set_text(s, 0, flags=flags)\n",
            "/usr/local/lib/python3.7/dist-packages/matplotlib/backends/backend_agg.py:183: RuntimeWarning: Glyph 4364 missing from current font.\n",
            "  font.set_text(s, 0, flags=flags)\n",
            "/usr/local/lib/python3.7/dist-packages/matplotlib/backends/backend_agg.py:183: RuntimeWarning: Glyph 4469 missing from current font.\n",
            "  font.set_text(s, 0, flags=flags)\n",
            "/usr/local/lib/python3.7/dist-packages/matplotlib/backends/backend_agg.py:183: RuntimeWarning: Glyph 4355 missing from current font.\n",
            "  font.set_text(s, 0, flags=flags)\n",
            "/usr/local/lib/python3.7/dist-packages/matplotlib/backends/backend_agg.py:183: RuntimeWarning: Glyph 4462 missing from current font.\n",
            "  font.set_text(s, 0, flags=flags)\n",
            "/usr/local/lib/python3.7/dist-packages/matplotlib/backends/backend_agg.py:183: RuntimeWarning: Glyph 4467 missing from current font.\n",
            "  font.set_text(s, 0, flags=flags)\n"
          ],
          "name": "stderr"
        },
        {
          "output_type": "display_data",
          "data": {
            "image/png": "[encoded data removed]",
            "text/plain": [
              "<Figure size 432x288 with 1 Axes>"
            ]
          },
          "metadata": {
            "tags": [],
            "needs_background": "light"
          }
        },
        {
          "output_type": "stream",
          "text": [
            "tensor([1, 0, 1, 2])\n"
          ],
          "name": "stdout"
        }
      ]
    },
    {
      "cell_type": "code",
      "metadata": {
        "id": "uv2LFzk1RJxq"
      },
      "source": [
        "model = models.resnet34(pretrained=True)\n",
        "#model = torch.hub.load('pytorch/vision:v0.9.0', 'inception_v3', pretrained=True)\n",
        "num_features = model.fc.in_features # cnn에서 feature extraction 후 fully connected 레이어에 입력된는 데이터 수 \n",
        "\n",
        "\n",
        "\n",
        "# 전이 학습(transfer learning): 모델의 출력 뉴런 수를 5개로 교체하여 마지막 레이어 다시 학습\n",
        "model.fc = nn.Linear(num_features, 5)\n",
        "model = model.to(device)\n",
        "\n",
        "criterion = nn.CrossEntropyLoss()   # Loss 함수를 뜻 하는 criterion은 CrossEntropy 텐서 플로우로는 softmax같은 느낌 \n",
        "optimizer = optim.SGD(model.parameters(), lr=0.001, momentum=0.9) # 옵티마이저는 Stochastic Gradient Descent, ResNet34의 feature extraction 부분의 전체 웨이트 매트릭스를 넣어주는 것 "
      ],
      "execution_count": null,
      "outputs": []
    },
    {
      "cell_type": "code",
      "metadata": {
        "id": "vwq0GFn8JAfD"
      },
      "source": [
        "def images_to_probs(model, images):\n",
        "  output = model(images)\n",
        "  _, preds = torch.max(outputs, 1)\n",
        "  preds = np.squeeze(preds.numpy())\n",
        "  return preds, [F.softmax(el, dim=0)[i].item() for i,el in zip(preds,output)]\n",
        "\n",
        "def plot_classes_preds(model, images, labels):\n",
        "  preds, probs = images_to_probs(model, images)\n",
        "  fig = plt.figure(figsize=(12,48))\n",
        "  for idx in np.arange(4):\n",
        "    ax = fig.add_subplot(1,4,idx+1,xticks=[],yticks=[])\n",
        "    matplotlib_imshow(images[idx], one_channel=True)\n",
        "    ax.set_title(\"{0}, {1:.1f}%\\n(label: {5}\".format(\n",
        "        class_names[preds[idx]],\n",
        "        probs[idx]*100.0,\n",
        "        class_names[labels[idx]]),\n",
        "          color=(\"green\" if preds[idx]==labels[idx].item() else \"red\"))\n",
        "    return fig\n"
      ],
      "execution_count": null,
      "outputs": []
    },
    {
      "cell_type": "code",
      "metadata": {
        "colab": {
          "base_uri": "https://localhost:8080/"
        },
        "id": "uHEZ0BlASgcY",
        "outputId": "849974a4-552e-4be5-cef4-41e0193a858c"
      },
      "source": [
        "num_epochs = 68\n",
        "model.train()\n",
        "start_time = time.time()\n",
        "loss_value=[]\n",
        "acc_value =[]\n",
        "# 전체 반복(epoch) 수 만큼 반복하며\n",
        "for epoch in range(num_epochs):\n",
        "    running_loss = 0.\n",
        "    running_corrects = 0\n",
        "\n",
        "    # 배치 단위로 학습 데이터 불러오기\n",
        "    for inputs, labels in train_dataloader:\n",
        "        inputs = inputs.to(device)\n",
        "        labels = labels.to(device)\n",
        "\n",
        "        # 모델에 입력(forward)하고 결과 계산\n",
        "        optimizer.zero_grad()\n",
        "        outputs = model(inputs)\n",
        "        _, preds = torch.max(outputs, 1)\n",
        "        loss = criterion(outputs, labels)\n",
        "\n",
        "        # 역전파를 통해 기울기(gradient) 계산 및 학습 진행\n",
        "        loss.backward()\n",
        "        optimizer.step()\n",
        "\n",
        "        running_loss += loss.item() * inputs.size(0)\n",
        "        running_corrects += torch.sum(preds == labels.data)\n",
        "        \n",
        "    epoch_loss = running_loss / len(train_datasets)\n",
        "    epoch_acc = running_corrects / len(train_datasets) * 100.\n",
        "    loss_value.append (epoch_loss)\n",
        "    acc_value.append(epoch_acc)\n",
        "    # 학습 과정 중에 결과 출력\n",
        "    print('#{} Loss: {:.4f} Acc: {:.4f}% Time: {:.4f}s'.format(epoch, epoch_loss, epoch_acc, time.time() - start_time))\n",
        "\n",
        "\n"
      ],
      "execution_count": null,
      "outputs": [
        {
          "output_type": "stream",
          "text": [
            "/usr/local/lib/python3.7/dist-packages/torch/utils/data/dataloader.py:477: UserWarning: This DataLoader will create 4 worker processes in total. Our suggested max number of worker in current system is 2, which is smaller than what this DataLoader is going to create. Please be aware that excessive worker creation might get DataLoader running slow or even freeze, lower the worker number to avoid potential slowness/freeze if necessary.\n",
            "  cpuset_checked))\n"
          ],
          "name": "stderr"
        },
        {
          "output_type": "stream",
          "text": [
            "#0 Loss: 1.7201 Acc: 29.1667% Time: 5.4602s\n",
            "#1 Loss: 1.4785 Acc: 43.0556% Time: 10.4528s\n",
            "#2 Loss: 1.6064 Acc: 43.8889% Time: 15.3749s\n",
            "#3 Loss: 1.1953 Acc: 54.7222% Time: 20.3308s\n",
            "#4 Loss: 1.2537 Acc: 55.2778% Time: 25.2613s\n",
            "#5 Loss: 0.9940 Acc: 64.7222% Time: 30.2044s\n",
            "#6 Loss: 0.9409 Acc: 68.6111% Time: 35.0766s\n",
            "#7 Loss: 0.9473 Acc: 69.4445% Time: 40.0936s\n",
            "#8 Loss: 0.8698 Acc: 68.3333% Time: 45.1412s\n",
            "#9 Loss: 0.8797 Acc: 71.3889% Time: 50.0359s\n",
            "#10 Loss: 0.6575 Acc: 77.7778% Time: 54.9285s\n",
            "#11 Loss: 0.6615 Acc: 75.5556% Time: 59.9967s\n",
            "#12 Loss: 0.6385 Acc: 78.6111% Time: 64.9668s\n",
            "#13 Loss: 0.6367 Acc: 77.7778% Time: 69.9534s\n",
            "#14 Loss: 0.6416 Acc: 80.0000% Time: 74.8815s\n",
            "#15 Loss: 0.4260 Acc: 85.8333% Time: 79.8506s\n",
            "#16 Loss: 0.3408 Acc: 87.2222% Time: 84.7540s\n",
            "#17 Loss: 0.6199 Acc: 78.3333% Time: 89.6936s\n",
            "#18 Loss: 0.5477 Acc: 80.0000% Time: 94.6260s\n",
            "#19 Loss: 0.3960 Acc: 86.6667% Time: 99.5946s\n",
            "#20 Loss: 0.5081 Acc: 83.3333% Time: 104.5444s\n",
            "#21 Loss: 0.5279 Acc: 83.8889% Time: 109.5510s\n",
            "#22 Loss: 0.4411 Acc: 85.2778% Time: 114.5706s\n",
            "#23 Loss: 0.4030 Acc: 87.5000% Time: 119.5954s\n",
            "#24 Loss: 0.2927 Acc: 89.4444% Time: 124.4942s\n",
            "#25 Loss: 0.2970 Acc: 90.5556% Time: 129.3668s\n",
            "#26 Loss: 0.2382 Acc: 91.3889% Time: 134.3199s\n",
            "#27 Loss: 0.2443 Acc: 91.6667% Time: 139.2741s\n",
            "#28 Loss: 0.2460 Acc: 93.0556% Time: 144.2066s\n",
            "#29 Loss: 0.2718 Acc: 93.0556% Time: 149.1722s\n",
            "#30 Loss: 0.2553 Acc: 92.2222% Time: 154.1629s\n",
            "#31 Loss: 0.2324 Acc: 92.5000% Time: 159.1534s\n",
            "#32 Loss: 0.1335 Acc: 95.5556% Time: 164.0545s\n",
            "#33 Loss: 0.1638 Acc: 93.8889% Time: 169.0506s\n"
          ],
          "name": "stdout"
        }
      ]
    },
    {
      "cell_type": "code",
      "metadata": {
        "colab": {
          "base_uri": "https://localhost:8080/",
          "height": 297
        },
        "id": "8jH15aHP3PwC",
        "outputId": "eaa21122-94b2-4db4-9d2a-63fd80dc5611"
      },
      "source": [
        "plt.plot(acc_value, color='#9297ff')\n",
        "plt.xlabel('epoch') \n",
        "plt.ylabel('Accuracy')"
      ],
      "execution_count": null,
      "outputs": [
        {
          "output_type": "execute_result",
          "data": {
            "text/plain": [
              "Text(0, 0.5, 'Accuracy')"
            ]
          },
          "metadata": {
            "tags": []
          },
          "execution_count": 42
        },
        {
          "output_type": "display_data",
          "data": {
            "image/png": "[encoded data removed]",
            "text/plain": [
              "<Figure size 432x288 with 1 Axes>"
            ]
          },
          "metadata": {
            "tags": [],
            "needs_background": "light"
          }
        }
      ]
    },
    {
      "cell_type": "code",
      "metadata": {
        "colab": {
          "base_uri": "https://localhost:8080/",
          "height": 296
        },
        "id": "OYrx2ZuJ3My8",
        "outputId": "85c89525-f7b9-4eb3-f917-45ea4ecb12f2"
      },
      "source": [
        "plt.plot(loss_value, color='#9297ff')\n",
        "plt.xlabel('epoch') \n",
        "plt.ylabel('Loss')"
      ],
      "execution_count": null,
      "outputs": [
        {
          "output_type": "execute_result",
          "data": {
            "text/plain": [
              "Text(0, 0.5, 'Loss')"
            ]
          },
          "metadata": {
            "tags": []
          },
          "execution_count": 43
        },
        {
          "output_type": "display_data",
          "data": {
            "image/png": "[encoded data removed]",
            "text/plain": [
              "<Figure size 432x288 with 1 Axes>"
            ]
          },
          "metadata": {
            "tags": [],
            "needs_background": "light"
          }
        }
      ]
    },
    {
      "cell_type": "code",
      "metadata": {
        "colab": {
          "background_save": true
        },
        "id": "EoSfs5OqgWhm"
      },
      "source": [
        "PATH = '/content/drive/MyDrive/Colab Notebooks/'\n",
        "\n",
        "torch.save(model, PATH + 'model.pt')  # 전체 모델 저장\n",
        "torch.save(model.state_dict(), PATH + 'model_state_dict.pt')  # 모델 객체의 state_dict 저장\n",
        "torch.save({\n",
        "    'model': model.state_dict(),\n",
        "    'optimizer': optimizer.state_dict()\n",
        "}, PATH + 'all.tar')"
      ],
      "execution_count": null,
      "outputs": []
    }
  ]
}